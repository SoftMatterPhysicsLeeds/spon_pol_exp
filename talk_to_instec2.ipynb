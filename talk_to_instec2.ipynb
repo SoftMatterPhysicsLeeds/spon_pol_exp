{
 "cells": [
  {
   "cell_type": "code",
   "execution_count": null,
   "metadata": {},
   "outputs": [],
   "source": [
    "from smponpol.instruments import Instec\n",
    "import struct\n",
    "import time\n",
    "import pyvisa\n",
    "\n"
   ]
  },
  {
   "cell_type": "code",
   "execution_count": null,
   "metadata": {},
   "outputs": [],
   "source": [
    "rm = pyvisa.ResourceManager()\n",
    "ins = rm.open_resource('USB0::0x03EB::0x201D::001::RAW')\n",
    "\n"
   ]
  },
  {
   "cell_type": "code",
   "execution_count": 74,
   "metadata": {},
   "outputs": [],
   "source": [
    "ins.read_termination = b\"\"\n",
    "ins.write_termination = b\"\""
   ]
  },
  {
   "cell_type": "code",
   "execution_count": null,
   "metadata": {},
   "outputs": [],
   "source": [
    "register = 4\n",
    "head = b\"\\x7f\\x01\\x03\"\n",
    "checksum_1 =  bytes([sum(head) & 0xFF])\n",
    "data = b\"\\x02\" + register.to_bytes(1,'big') + b\"\\x05\"\n",
    "checksum_2 = bytes([sum(data) & 0xFF])\n",
    "message = head + checksum_1 + data + checksum_2\n"
   ]
  },
  {
   "cell_type": "code",
   "execution_count": 101,
   "metadata": {},
   "outputs": [
    {
     "data": {
      "text/plain": [
       "8"
      ]
     },
     "execution_count": 101,
     "metadata": {},
     "output_type": "execute_result"
    }
   ],
   "source": [
    "ins.write_raw(message)"
   ]
  },
  {
   "cell_type": "code",
   "execution_count": 102,
   "metadata": {},
   "outputs": [
    {
     "name": "stdout",
     "output_type": "stream",
     "text": [
      "b''\n",
      "b'\\x7f\\x01\\x08\\x88\\x03\\x04\\x05o\\xac\\xbaA\\x01#'\n"
     ]
    }
   ],
   "source": [
    "# ins.read_binary_values(55)\n",
    "\n",
    "print(ins.read_raw(1000))\n",
    "print(ins.read_raw())"
   ]
  },
  {
   "cell_type": "code",
   "execution_count": null,
   "metadata": {},
   "outputs": [],
   "source": [
    "ins.write_raw(message)"
   ]
  },
  {
   "cell_type": "code",
   "execution_count": null,
   "metadata": {},
   "outputs": [],
   "source": [
    "print(ins.read_raw(1000))\n",
    "print(ins.read_raw())"
   ]
  },
  {
   "cell_type": "code",
   "execution_count": null,
   "metadata": {},
   "outputs": [],
   "source": [
    "ins.close()"
   ]
  }
 ],
 "metadata": {
  "kernelspec": {
   "display_name": ".venv",
   "language": "python",
   "name": "python3"
  },
  "language_info": {
   "codemirror_mode": {
    "name": "ipython",
    "version": 3
   },
   "file_extension": ".py",
   "mimetype": "text/x-python",
   "name": "python",
   "nbconvert_exporter": "python",
   "pygments_lexer": "ipython3",
   "version": "3.12.4"
  }
 },
 "nbformat": 4,
 "nbformat_minor": 2
}
