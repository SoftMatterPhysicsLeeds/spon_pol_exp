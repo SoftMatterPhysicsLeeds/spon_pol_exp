{
 "cells": [
  {
   "cell_type": "code",
   "execution_count": 1,
   "metadata": {},
   "outputs": [],
   "source": [
    "import pyvisa\n",
    "import matplotlib.pyplot as plt"
   ]
  },
  {
   "cell_type": "code",
   "execution_count": 2,
   "metadata": {},
   "outputs": [
    {
     "data": {
      "text/plain": [
       "('USB0::0x0957::0x0407::MY44042361::INSTR',\n",
       " 'USB0::0x1AB1::0x0610::HDO4A243800216::INSTR',\n",
       " 'ASRL1::INSTR',\n",
       " 'USB::0x1AB1::0x0610::HDO4A243800216::INSTR',\n",
       " 'USB::0x0957::0x0407::MY44042361::INSTR')"
      ]
     },
     "execution_count": 2,
     "metadata": {},
     "output_type": "execute_result"
    }
   ],
   "source": [
    "rm = pyvisa.ResourceManager()\n",
    "rm.list_resources()"
   ]
  },
  {
   "cell_type": "code",
   "execution_count": 3,
   "metadata": {},
   "outputs": [],
   "source": [
    "scope = rm.open_resource('USB::0x1AB1::0x0610::HDO4A243800216::INSTR')\n",
    "\n"
   ]
  },
  {
   "cell_type": "code",
   "execution_count": 4,
   "metadata": {},
   "outputs": [
    {
     "data": {
      "text/plain": [
       "15"
      ]
     },
     "execution_count": 4,
     "metadata": {},
     "output_type": "execute_result"
    }
   ],
   "source": [
    "scope.write(f\"CHAN{1}:DISP ON\")\n",
    "# scope.write(f\"CHAN{2}:DISP ON\")"
   ]
  },
  {
   "cell_type": "code",
   "execution_count": 4,
   "metadata": {},
   "outputs": [
    {
     "data": {
      "text/plain": [
       "'NORM\\n'"
      ]
     },
     "execution_count": 4,
     "metadata": {},
     "output_type": "execute_result"
    }
   ],
   "source": [
    "scope.query(\":WAVeform:MODE?\")\n",
    "\n"
   ]
  },
  {
   "cell_type": "code",
   "execution_count": 33,
   "metadata": {},
   "outputs": [
    {
     "data": {
      "text/plain": [
       "6"
      ]
     },
     "execution_count": 33,
     "metadata": {},
     "output_type": "execute_result"
    }
   ],
   "source": [
    "scope.write(\":RUN\")"
   ]
  },
  {
   "cell_type": "code",
   "execution_count": 38,
   "metadata": {},
   "outputs": [
    {
     "ename": "ValueError",
     "evalue": "could not convert string to float: '-7.346000e-02-1.166667e-03'",
     "output_type": "error",
     "traceback": [
      "\u001b[1;31m---------------------------------------------------------------------------\u001b[0m",
      "\u001b[1;31mValueError\u001b[0m                                Traceback (most recent call last)",
      "Cell \u001b[1;32mIn[38], line 12\u001b[0m\n\u001b[0;32m      6\u001b[0m \u001b[38;5;66;03m# scope.write(\":WAV:DATA?\")\u001b[39;00m\n\u001b[0;32m      7\u001b[0m \n\u001b[0;32m      8\u001b[0m \u001b[38;5;66;03m# data_default= scope.read_raw()\u001b[39;00m\n\u001b[0;32m      9\u001b[0m \u001b[38;5;66;03m# x = data_default[11:]\u001b[39;00m\n\u001b[0;32m     11\u001b[0m data_default \u001b[38;5;241m=\u001b[39m scope\u001b[38;5;241m.\u001b[39mquery(\u001b[38;5;124m\"\u001b[39m\u001b[38;5;124m:WAV:DATA?\u001b[39m\u001b[38;5;124m\"\u001b[39m)\n\u001b[1;32m---> 12\u001b[0m data_default_float \u001b[38;5;241m=\u001b[39m  [\u001b[38;5;28;43mfloat\u001b[39;49m\u001b[43m(\u001b[49m\u001b[43mx\u001b[49m\u001b[43m)\u001b[49m \u001b[38;5;28;01mfor\u001b[39;00m x \u001b[38;5;129;01min\u001b[39;00m data_default\u001b[38;5;241m.\u001b[39msplit(\u001b[38;5;124m'\u001b[39m\u001b[38;5;124m,\u001b[39m\u001b[38;5;124m'\u001b[39m)]\n\u001b[0;32m     13\u001b[0m scope\u001b[38;5;241m.\u001b[39mwrite(\u001b[38;5;124m\"\u001b[39m\u001b[38;5;124m:RUN\u001b[39m\u001b[38;5;124m\"\u001b[39m)\n",
      "\u001b[1;31mValueError\u001b[0m: could not convert string to float: '-7.346000e-02-1.166667e-03'"
     ]
    }
   ],
   "source": [
    "\n",
    "scope.write(\":WAVeform:MODE RAW;:ACQuire:TYPE AVERages;:ACQ:AVER 64;\")\n",
    "scope.write(\":WAVeform:FORMat ASC\")\n",
    "scope.write(\":ACQuire:MDEPth 10k\")\n",
    "scope.write(\":STOP\")\n",
    "scope.write(\":WAVeform:POINts 10000\")\n",
    "# scope.write(\":WAV:DATA?\")\n",
    "\n",
    "# data_default= scope.read_raw()\n",
    "# x = data_default[11:]\n",
    "\n",
    "data_default = scope.query(\":WAV:DATA?\")\n",
    "data_default_float =  [float(x) for x in data_default.split(',')]\n",
    "scope.write(\":RUN\")"
   ]
  },
  {
   "cell_type": "code",
   "execution_count": null,
   "metadata": {},
   "outputs": [],
   "source": []
  },
  {
   "cell_type": "code",
   "execution_count": 35,
   "metadata": {},
   "outputs": [],
   "source": [
    "# convert spectra to floats: \n",
    "# \"(0x8E - YORigin - YREFerence) × YINCrement\"\n",
    "\n",
    "yOrigin = float(scope.query(\"WAV:YOR?\"))\n",
    "yref = float(scope.query(\"WAV:YREF?\"))\n",
    "yinc = float(scope.query(\"WAV:YINC?\"))\n",
    "data_default_float = [(i - yOrigin - yref) * yinc for i in x]"
   ]
  },
  {
   "cell_type": "code",
   "execution_count": 36,
   "metadata": {},
   "outputs": [
    {
     "data": {
      "text/plain": [
       "[<matplotlib.lines.Line2D at 0x1edc6de5a60>]"
      ]
     },
     "execution_count": 36,
     "metadata": {},
     "output_type": "execute_result"
    },
    {
     "data": {
      "image/png": "[encoded data removed]",
      "text/plain": [
       "<Figure size 640x480 with 1 Axes>"
      ]
     },
     "metadata": {},
     "output_type": "display_data"
    }
   ],
   "source": [
    "fig, ax = plt.subplots()\n",
    "ax.plot([x for x, _ in enumerate(data_default_float)],data_default_float, 'ro')"
   ]
  },
  {
   "cell_type": "code",
   "execution_count": 8,
   "metadata": {},
   "outputs": [
    {
     "data": {
      "text/plain": [
       "16"
      ]
     },
     "execution_count": 8,
     "metadata": {},
     "output_type": "execute_result"
    }
   ],
   "source": [
    "scope.write(\":WAV:SOUR CHAN1\")\n",
    "scope.write(\":WAVeform:MODE MAX;:ACQuire:TYPE AVERages;:ACQ:AVER 64;\")\n",
    "scope.write(\":WAVeform:FORMat ASC\")\n",
    "scope.write(\":ACQ:MDEP AUTO\")\n",
    "\n",
    "scope.write(\":WAV:SOUR CHAN2\")\n",
    "scope.write(\":WAVeform:MODE MAX;:ACQuire:TYPE AVERages;:ACQ:AVER 64;\")\n",
    "scope.write(\":WAVeform:FORMat ASC\")\n",
    "scope.write(\":ACQ:MDEP AUTO\")\n"
   ]
  },
  {
   "cell_type": "code",
   "execution_count": 17,
   "metadata": {},
   "outputs": [
    {
     "data": {
      "text/plain": [
       "16"
      ]
     },
     "execution_count": 17,
     "metadata": {},
     "output_type": "execute_result"
    }
   ],
   "source": [
    "scope.write(f\"CHAN{1}:SCAL {0.1}\")\n",
    "scope.write(f\"CHAN{2}:SCAL {0.1}\")"
   ]
  },
  {
   "cell_type": "code",
   "execution_count": 10,
   "metadata": {},
   "outputs": [],
   "source": [
    "def get_channel_trace(scope, channel=1, depth=\"10k\"):\n",
    "    # self.scope.write(\":STOP\")\n",
    "    # if channel display is 'off', then don't do anything and just return.\n",
    "    # if int(scope.query(\":CHAN{channel}:DISP?\").strip()) == 0:\n",
    "    #     return\n",
    "\n",
    "    scope.write(f\":WAV:SOUR CHAN{channel}\")\n",
    "    scope.write(f\":ACQuire:TYPE AVERages;:ACQ:AVER {64};\")\n",
    "    scope.write(\":WAV:FORM ASC;:WAV:MODE MAX\")\n",
    "    scope.write(f\":ACQ:MDEP {depth}\")\n",
    "    x_increment = float(scope.query(\"WAV:XINC?\"))\n",
    "    y_increment = float(scope.query(\"WAV:YINC?\"))\n",
    "    y_reference = float(scope.query(\"WAV:YREF?\"))\n",
    "    start_time = float(scope.query(\"WAV:XOR?\"))\n",
    "\n",
    "    data = scope.query(\":WAV:DATA?\")\n",
    "    # data = scope.read()\n",
    "    if scope.query(\"WAV:MODE?\").strip() == \"NORM\":\n",
    "        y_reference = y_reference * y_increment\n",
    "    # data = [(float(x) - y_reference) *\n",
    "    #         y_increment for x in data.strip().split(',')]\n",
    "    data = [float(x) for x in data.split(',')]\n",
    "    times = [start_time+(x_increment * x) for x in range(len(data))]\n",
    "\n",
    "    return times, data\n",
    "\n",
    "times, data = get_channel_trace(scope, 1)\n",
    "times2, data2 = get_channel_trace(scope, 2)"
   ]
  },
  {
   "cell_type": "code",
   "execution_count": null,
   "metadata": {},
   "outputs": [],
   "source": []
  },
  {
   "cell_type": "code",
   "execution_count": 153,
   "metadata": {},
   "outputs": [],
   "source": [
    "# data = scope.query(\":WAV:DATA?\")\n",
    "\n",
    "# data = data.split(',')\n",
    "# data = [float(x) for x in data]\n",
    "\n"
   ]
  },
  {
   "cell_type": "code",
   "execution_count": 11,
   "metadata": {},
   "outputs": [
    {
     "data": {
      "image/png": "[encoded data removed]",
      "text/plain": [
       "<Figure size 640x480 with 1 Axes>"
      ]
     },
     "metadata": {},
     "output_type": "display_data"
    }
   ],
   "source": [
    "fig, ax = plt.subplots()\n",
    "# ax.plot([i for i,x in enumerate(data)], data,'r-')\n",
    "ax.plot(times,data,'r-')\n",
    "ax.plot(times2,data2,'b-')\n",
    "plt.grid()"
   ]
  },
  {
   "cell_type": "code",
   "execution_count": 89,
   "metadata": {},
   "outputs": [],
   "source": [
    "scope.close()"
   ]
  }
 ],
 "metadata": {
  "kernelspec": {
   "display_name": ".venv",
   "language": "python",
   "name": "python3"
  },
  "language_info": {
   "codemirror_mode": {
    "name": "ipython",
    "version": 3
   },
   "file_extension": ".py",
   "mimetype": "text/x-python",
   "name": "python",
   "nbconvert_exporter": "python",
   "pygments_lexer": "ipython3",
   "version": "3.12.4"
  }
 },
 "nbformat": 4,
 "nbformat_minor": 2
}
