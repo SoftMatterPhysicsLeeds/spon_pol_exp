{
 "cells": [
  {
   "cell_type": "code",
   "execution_count": 3,
   "metadata": {},
   "outputs": [],
   "source": [
    "from instec import Instec\n",
    "import struct\n",
    "import time\n",
    "\n"
   ]
  },
  {
   "cell_type": "code",
   "execution_count": 4,
   "metadata": {},
   "outputs": [],
   "source": [
    "\n",
    "\n",
    "ins = Instec('USB0::0x03EB::0x201D::001::RAW')\n",
    "\n",
    "\n"
   ]
  },
  {
   "cell_type": "code",
   "execution_count": 18,
   "metadata": {},
   "outputs": [
    {
     "name": "stdout",
     "output_type": "stream",
     "text": [
      "b'\\x7f\\x01\\x03\\x83\\x02\\x04\\x05\\x0b'\n",
      "b'\\x7f\\x01\\x08\\x88\\x03\\x04\\x05\\x8fM\\xf0A\\x01\\x1a'\n"
     ]
    },
    {
     "data": {
      "text/plain": [
       "30.037870407104492"
      ]
     },
     "execution_count": 18,
     "metadata": {},
     "output_type": "execute_result"
    }
   ],
   "source": [
    "ins.get_temperature()"
   ]
  },
  {
   "cell_type": "code",
   "execution_count": 11,
   "metadata": {},
   "outputs": [
    {
     "name": "stdout",
     "output_type": "stream",
     "text": [
      "b'\\x7f\\x01\\x07\\x87\\x01\\x08\\x04\\x00\\x00\\xf0A>'\n",
      "b'\\x7f\\x01\\x08\\x88\\x03\\x04\\x05\\x1a=\\xf0A\\x01\\x95'\n",
      "b'\\x7f\\x01\\x07\\x87\\x01\\x12\\x04\\x00\\x00 Ax'\n",
      "b'\\x7f\\x01\\x02\\x82\\x04\\x08\\x0c'\n",
      "b'\\x7f\\x01\\x04\\x84\\x01\\x01\\x01\\x02\\x05'\n",
      "b'\\x7f\\x01\\x02\\x82\\x04\\x12\\x16'\n"
     ]
    }
   ],
   "source": [
    "ins.ramp(30, 10)"
   ]
  },
  {
   "cell_type": "code",
   "execution_count": 19,
   "metadata": {},
   "outputs": [
    {
     "name": "stdout",
     "output_type": "stream",
     "text": [
      "b'\\x7f\\x01\\x07\\x87\\x01\\x08\\x04\\x00\\x00\\xc8A\\x16'\n",
      "b'\\x7f\\x01\\x02\\x82\\x04\\x01\\x05'\n",
      "b'\\x7f\\x01\\x04\\x84\\x01\\x01\\x01\\x01\\x04'\n",
      "b'\\x7f\\x01\\x02\\x82\\x04\\x08\\x0c'\n"
     ]
    }
   ],
   "source": [
    "ins.hold(30)"
   ]
  },
  {
   "cell_type": "code",
   "execution_count": 20,
   "metadata": {},
   "outputs": [
    {
     "name": "stdout",
     "output_type": "stream",
     "text": [
      "b'\\x7f\\x01\\x04\\x84\\x01\\x01\\x01\\x05\\x08'\n",
      "b'\\x7f\\x01\\x02\\x82\\x04\\x01\\x05'\n"
     ]
    }
   ],
   "source": [
    "ins.stop()"
   ]
  },
  {
   "cell_type": "code",
   "execution_count": 24,
   "metadata": {},
   "outputs": [],
   "source": [
    "ins.close()"
   ]
  }
 ],
 "metadata": {
  "kernelspec": {
   "display_name": ".venv",
   "language": "python",
   "name": "python3"
  },
  "language_info": {
   "codemirror_mode": {
    "name": "ipython",
    "version": 3
   },
   "file_extension": ".py",
   "mimetype": "text/x-python",
   "name": "python",
   "nbconvert_exporter": "python",
   "pygments_lexer": "ipython3",
   "version": "3.12.4"
  }
 },
 "nbformat": 4,
 "nbformat_minor": 2
}
