{
 "cells": [
  {
   "cell_type": "code",
   "execution_count": 45,
   "metadata": {},
   "outputs": [],
   "source": [
    "from smponpol.instruments import Instec\n",
    "import struct\n",
    "import time\n",
    "from enum import Enum, auto\n",
    "\n"
   ]
  },
  {
   "cell_type": "code",
   "execution_count": 46,
   "metadata": {},
   "outputs": [],
   "source": [
    "class InstecStatus(Enum):\n",
    "    RESET = 0\n",
    "    HOLD = auto()\n",
    "    RAMP = auto()\n",
    "    PAUSE = auto()\n",
    "    PROFILE = auto()\n",
    "    STOP = auto()\n",
    "    RESET_COMM = auto()\n",
    "    LOAD_DEFAULT = auto()\n",
    "    ESC = auto()"
   ]
  },
  {
   "cell_type": "code",
   "execution_count": 48,
   "metadata": {},
   "outputs": [
    {
     "data": {
      "text/plain": [
       "True"
      ]
     },
     "execution_count": 48,
     "metadata": {},
     "output_type": "execute_result"
    }
   ],
   "source": [
    "InstecStatus(1)"
   ]
  },
  {
   "cell_type": "code",
   "execution_count": 17,
   "metadata": {},
   "outputs": [],
   "source": [
    "ins = Instec('USB0::0x03EB::0x201D::001::RAW')"
   ]
  },
  {
   "cell_type": "code",
   "execution_count": 170,
   "metadata": {},
   "outputs": [
    {
     "name": "stdout",
     "output_type": "stream",
     "text": [
      "InstecStatus.STOP\n"
     ]
    }
   ],
   "source": [
    "response = ins.read_register(1)\n",
    "#b'\\x7f\\x01\\x08\\x88\\x03\\x01\\x05\\x02\\x00\\x00\\x00\\x00\\x0b' ramping\n",
    "#b'\\x7f\\x01\\x08\\x88\\x03\\x01\\x05\\x05\\x00\\x00\\x00\\x00\\x0e'\n",
    "int_list= list(response)\n",
    "print(InstecStatus(response[7]))\n"
   ]
  },
  {
   "cell_type": "code",
   "execution_count": 155,
   "metadata": {},
   "outputs": [
    {
     "data": {
      "text/plain": [
       "30.14151382446289"
      ]
     },
     "execution_count": 155,
     "metadata": {},
     "output_type": "execute_result"
    }
   ],
   "source": [
    "ins.get_temperature()"
   ]
  },
  {
   "cell_type": "code",
   "execution_count": 56,
   "metadata": {},
   "outputs": [],
   "source": [
    "ins.ramp(30, 10)"
   ]
  },
  {
   "cell_type": "code",
   "execution_count": 13,
   "metadata": {},
   "outputs": [],
   "source": [
    "ins.hold(30)"
   ]
  },
  {
   "cell_type": "code",
   "execution_count": 169,
   "metadata": {},
   "outputs": [],
   "source": [
    "ins.stop()"
   ]
  },
  {
   "cell_type": "code",
   "execution_count": 15,
   "metadata": {},
   "outputs": [],
   "source": [
    "ins.close()"
   ]
  }
 ],
 "metadata": {
  "kernelspec": {
   "display_name": ".venv",
   "language": "python",
   "name": "python3"
  },
  "language_info": {
   "codemirror_mode": {
    "name": "ipython",
    "version": 3
   },
   "file_extension": ".py",
   "mimetype": "text/x-python",
   "name": "python",
   "nbconvert_exporter": "python",
   "pygments_lexer": "ipython3",
   "version": "3.12.4"
  }
 },
 "nbformat": 4,
 "nbformat_minor": 2
}
